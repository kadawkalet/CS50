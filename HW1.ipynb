{
  "nbformat": 4,
  "nbformat_minor": 0,
  "metadata": {
    "colab": {
      "name": "HW1.ipynb",
      "provenance": [],
      "authorship_tag": "ABX9TyPOipl96byiqMyS9jjUYssR",
      "include_colab_link": true
    },
    "kernelspec": {
      "name": "python3",
      "display_name": "Python 3"
    },
    "language_info": {
      "name": "python"
    }
  },
  "cells": [
    {
      "cell_type": "markdown",
      "metadata": {
        "id": "view-in-github",
        "colab_type": "text"
      },
      "source": [
        "<a href=\"https://colab.research.google.com/github/kadawkalet/CS50/blob/main/HW1.ipynb\" target=\"_parent\"><img src=\"https://colab.research.google.com/assets/colab-badge.svg\" alt=\"Open In Colab\"/></a>"
      ]
    },
    {
      "cell_type": "code",
      "metadata": {
        "id": "NWPlpL75USAJ"
      },
      "source": [
        "import pandas as pd\n",
        "import logging\n",
        "import numpy as np\n",
        "import sys\n",
        "import matplotlib.pyplot as plt\n",
        "from sklearn.model_selection import train_test_split"
      ],
      "execution_count": 4,
      "outputs": []
    },
    {
      "cell_type": "code",
      "metadata": {
        "id": "34bDTgqWU42Z"
      },
      "source": [
        "def feature_normalization(train, test):\n",
        "    \"\"\"Rescale the data so that each feature in the training set is in\n",
        "    the interval [0,1], and apply the same transformations to the test\n",
        "    set, using the statistics computed on the training set.\n",
        "\n",
        "    Args:\n",
        "        train - training set, a 2D numpy array of size (num_instances, num_features)\n",
        "        test  - test set, a 2D numpy array of size (num_instances, num_features)\n",
        "    Returns:\n",
        "        train_normalized - training set after normalization\n",
        "        test_normalized  - test set after normalization\n",
        "\n",
        "    \"\"\"\n",
        "    # TODO\n",
        "\n",
        "    \n",
        "\n",
        "\n"
      ],
      "execution_count": null,
      "outputs": []
    }
  ]
}